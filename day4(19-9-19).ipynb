{
 "cells": [
  {
   "cell_type": "code",
   "execution_count": 2,
   "metadata": {},
   "outputs": [
    {
     "name": "stdout",
     "output_type": "stream",
     "text": [
      "PTHON\n",
      "pthon\n"
     ]
    }
   ],
   "source": [
    "s1='pthon'\n",
    "print(s1.upper())\n",
    "print(s1.lower())"
   ]
  },
  {
   "cell_type": "code",
   "execution_count": 8,
   "metadata": {},
   "outputs": [
    {
     "name": "stdout",
     "output_type": "stream",
     "text": [
      "True\n",
      "False\n"
     ]
    }
   ],
   "source": [
    "s1=\"python\"\n",
    "print(s1.islower())\n",
    "print(s1.isupper())"
   ]
  },
  {
   "cell_type": "code",
   "execution_count": 9,
   "metadata": {},
   "outputs": [
    {
     "name": "stdout",
     "output_type": "stream",
     "text": [
      "False\n"
     ]
    }
   ],
   "source": [
    "s1=\"python programming\"\n",
    "print(s1.istitle())"
   ]
  },
  {
   "cell_type": "code",
   "execution_count": 10,
   "metadata": {},
   "outputs": [
    {
     "name": "stdout",
     "output_type": "stream",
     "text": [
      "True\n",
      "False\n"
     ]
    }
   ],
   "source": [
    "s1=\"123456\"\n",
    "s2=\"py123\"\n",
    "print(s1.isnumeric())\n",
    "print(s2.isnumeric())"
   ]
  },
  {
   "cell_type": "code",
   "execution_count": 13,
   "metadata": {},
   "outputs": [
    {
     "name": "stdout",
     "output_type": "stream",
     "text": [
      "False\n",
      "True\n"
     ]
    }
   ],
   "source": [
    "s1=\"py123456\"\n",
    "s2=\"python\"\n",
    "print(s1.isalpha())\n",
    "print(s2.isalpha())"
   ]
  },
  {
   "cell_type": "code",
   "execution_count": 14,
   "metadata": {},
   "outputs": [
    {
     "name": "stdout",
     "output_type": "stream",
     "text": [
      "['python', 'programming', 'learn', 'made', 'easy']\n"
     ]
    }
   ],
   "source": [
    "s1=\"python programming learn made easy\"\n",
    "li=s1.split()\n",
    "print(li)"
   ]
  },
  {
   "cell_type": "code",
   "execution_count": 16,
   "metadata": {},
   "outputs": [
    {
     "name": "stdout",
     "output_type": "stream",
     "text": [
      "['python progr', 'mming le', 'rn m', 'de e', 'sy']\n"
     ]
    }
   ],
   "source": [
    "s1=\"python programming learn made easy\"\n",
    "li=s1.split('a')\n",
    "print(li)"
   ]
  },
  {
   "cell_type": "code",
   "execution_count": 18,
   "metadata": {},
   "outputs": [
    {
     "name": "stdout",
     "output_type": "stream",
     "text": [
      "['python prog', 'rmming le', 'rn m', 'de e', 'sy']\n"
     ]
    }
   ],
   "source": [
    "s1=\"python progarmming learn made easy\"\n",
    "li=s1.split('a')\n",
    "print(li)"
   ]
  },
  {
   "cell_type": "code",
   "execution_count": 20,
   "metadata": {},
   "outputs": [
    {
     "name": "stdout",
     "output_type": "stream",
     "text": [
      "python-programming-learn-easy\n"
     ]
    }
   ],
   "source": [
    "s1=\"python programming learn easy\"\n",
    "print(s1.replace(' ', '-'))"
   ]
  },
  {
   "cell_type": "code",
   "execution_count": 26,
   "metadata": {},
   "outputs": [
    {
     "name": "stdout",
     "output_type": "stream",
     "text": [
      "python progr@mming le@rn  m@de e@sy\n"
     ]
    }
   ],
   "source": [
    "s1=\"python programming learn  made easy\"\n",
    "print(s1.replace('a','@'))"
   ]
  },
  {
   "cell_type": "code",
   "execution_count": 28,
   "metadata": {},
   "outputs": [
    {
     "name": "stdout",
     "output_type": "stream",
     "text": [
      "p y t h o n\n"
     ]
    }
   ],
   "source": [
    "s1=\"python\"\n",
    "print(\" \".join(s1))"
   ]
  },
  {
   "cell_type": "code",
   "execution_count": 30,
   "metadata": {},
   "outputs": [
    {
     "name": "stdout",
     "output_type": "stream",
     "text": [
      "python programming\n"
     ]
    }
   ],
   "source": [
    "li=[\"python\",\"programming\"]\n",
    "print('%s %s' %(li[0],li[1]))"
   ]
  },
  {
   "cell_type": "code",
   "execution_count": 38,
   "metadata": {},
   "outputs": [
    {
     "name": "stdout",
     "output_type": "stream",
     "text": [
      "1 2 3 4\n"
     ]
    }
   ],
   "source": [
    "li=[1,2,3,4]\n",
    "print('%d %d %d %d' % (li[0],li[1],li[2],li[3]))"
   ]
  },
  {
   "cell_type": "code",
   "execution_count": 40,
   "metadata": {},
   "outputs": [
    {
     "name": "stdout",
     "output_type": "stream",
     "text": [
      "list item 0 : (0) \n",
      "list item 1 : (1)\n"
     ]
    }
   ],
   "source": [
    "li=[\"python\",\"programming\"]\n",
    "print(\"list item 0 : (0) \\nlist item 1 : (1)\".format(li[0],li[1]))"
   ]
  },
  {
   "cell_type": "code",
   "execution_count": 42,
   "metadata": {},
   "outputs": [
    {
     "name": "stdout",
     "output_type": "stream",
     "text": [
      "1 2 3 4\n"
     ]
    }
   ],
   "source": [
    "li=[1,2,3,4]\n",
    "print('{0} {1} {2} {3}'.format(li[0],li[1],li[2],li[3]))"
   ]
  },
  {
   "cell_type": "code",
   "execution_count": 44,
   "metadata": {},
   "outputs": [
    {
     "name": "stdout",
     "output_type": "stream",
     "text": [
      "{'name': 'Gitam', 'EmailID': 'gitamvizag@gmail.com', 'Address': 'vizag'}\n"
     ]
    }
   ],
   "source": [
    "d1={\"name\":\"Gitam\",\"EmailID\":\"gitamvizag@gmail.com\",\"Address\":\"vizag\"}\n",
    "print(d1)"
   ]
  },
  {
   "cell_type": "code",
   "execution_count": 46,
   "metadata": {},
   "outputs": [
    {
     "data": {
      "text/plain": [
       "'gitamvizag@gmail.com'"
      ]
     },
     "execution_count": 46,
     "metadata": {},
     "output_type": "execute_result"
    }
   ],
   "source": [
    "d1[\"EmailID\"]"
   ]
  },
  {
   "cell_type": "code",
   "execution_count": 47,
   "metadata": {},
   "outputs": [],
   "source": [
    "d1[\"EmailID\"]=\"Gitam@hotmail.com\""
   ]
  },
  {
   "cell_type": "code",
   "execution_count": 48,
   "metadata": {},
   "outputs": [
    {
     "data": {
      "text/plain": [
       "'Gitam@hotmail.com'"
      ]
     },
     "execution_count": 48,
     "metadata": {},
     "output_type": "execute_result"
    }
   ],
   "source": [
    "d1[\"EmailID\"]"
   ]
  },
  {
   "cell_type": "code",
   "execution_count": 51,
   "metadata": {},
   "outputs": [],
   "source": [
    "del d1[\"EmailID\"]"
   ]
  },
  {
   "cell_type": "code",
   "execution_count": 52,
   "metadata": {},
   "outputs": [
    {
     "data": {
      "text/plain": [
       "{'name': 'Gitam', 'Address': 'vizag'}"
      ]
     },
     "execution_count": 52,
     "metadata": {},
     "output_type": "execute_result"
    }
   ],
   "source": [
    "d1"
   ]
  },
  {
   "cell_type": "code",
   "execution_count": 56,
   "metadata": {},
   "outputs": [
    {
     "name": "stdout",
     "output_type": "stream",
     "text": [
      "contact details are added sucessfully\n",
      "contact details are added sucessfully\n",
      "name is already exists\n"
     ]
    }
   ],
   "source": [
    "contacts={}\n",
    "def addcontact(name,phone):\n",
    "    if name not in contacts:\n",
    "        contacts[name]=phone\n",
    "        print('contact details are added sucessfully')\n",
    "    else:\n",
    "        print('name is already exists')\n",
    "    return\n",
    "addcontact('dinesh','9943567898')\n",
    "addcontact('ajay','8765798969')\n",
    "addcontact('dinesh','7679878789')"
   ]
  },
  {
   "cell_type": "code",
   "execution_count": 65,
   "metadata": {},
   "outputs": [
    {
     "name": "stdout",
     "output_type": "stream",
     "text": [
      "dinesh  :  9943567898\n",
      "gitam does not present\n",
      "ajay  :  8765798969\n"
     ]
    }
   ],
   "source": [
    "def searchcontact(name):\n",
    "    if name in contacts:\n",
    "        print(name, \" : \",contacts[name])\n",
    "    else:\n",
    "        print('{0} does not present'.format(name))\n",
    "    return\n",
    "searchcontact('dinesh')\n",
    "searchcontact('gitam')\n",
    "searchcontact('ajay')"
   ]
  },
  {
   "cell_type": "code",
   "execution_count": 71,
   "metadata": {},
   "outputs": [
    {
     "name": "stdout",
     "output_type": "stream",
     "text": [
      "3 contacts are added\n"
     ]
    }
   ],
   "source": [
    "def importcontacts(newcontacts):\n",
    "    contacts.update(newcontacts)\n",
    "    print(len(newcontacts.keys()),'contacts are added')\n",
    "    return\n",
    "newcontacts= {'gitam ':9320939032,'anil':7323299294,'vizag':9503543841}\n",
    "importcontacts(newcontacts)"
   ]
  },
  {
   "cell_type": "code",
   "execution_count": 72,
   "metadata": {},
   "outputs": [
    {
     "data": {
      "text/plain": [
       "{'dinesh': '9943567898',\n",
       " 'ajay': '8765798969',\n",
       " 'gitam ': 9320939032,\n",
       " 'anil': 7323299294,\n",
       " 'vizag': 9503543841}"
      ]
     },
     "execution_count": 72,
     "metadata": {},
     "output_type": "execute_result"
    }
   ],
   "source": [
    "contacts"
   ]
  },
  {
   "cell_type": "code",
   "execution_count": 74,
   "metadata": {},
   "outputs": [
    {
     "name": "stdout",
     "output_type": "stream",
     "text": [
      "ajay update successfully\n",
      "naveen not update\n"
     ]
    }
   ],
   "source": [
    "def modifycontact(name,phone):\n",
    "    if name in contacts:\n",
    "        contacts[name]=phone\n",
    "        print(name,'update successfully')\n",
    "    else:\n",
    "        print(name,'not update')\n",
    "    return\n",
    "modifycontact('ajay',9887576987)\n",
    "modifycontact('naveen',8698060768)"
   ]
  },
  {
   "cell_type": "code",
   "execution_count": 75,
   "metadata": {},
   "outputs": [
    {
     "name": "stdout",
     "output_type": "stream",
     "text": [
      "anil deleted successfully\n"
     ]
    }
   ],
   "source": [
    "def deletecontact(name):\n",
    "    if name in contacts:\n",
    "        del contacts[name]\n",
    "        print(name,'deleted successfully')\n",
    "    else:\n",
    "        print(name,'not present')\n",
    "    return\n",
    "deletecontact('anil')"
   ]
  },
  {
   "cell_type": "code",
   "execution_count": 76,
   "metadata": {},
   "outputs": [
    {
     "data": {
      "text/plain": [
       "{'dinesh': '9943567898',\n",
       " 'ajay': 9887576987,\n",
       " 'gitam ': 9320939032,\n",
       " 'vizag': 9503543841}"
      ]
     },
     "execution_count": 76,
     "metadata": {},
     "output_type": "execute_result"
    }
   ],
   "source": [
    "contacts"
   ]
  },
  {
   "cell_type": "code",
   "execution_count": null,
   "metadata": {},
   "outputs": [],
   "source": [
    "t1 = (1,2,3,4,5)\n",
    "print(t1)\n"
   ]
  },
  {
   "cell_type": "code",
   "execution_count": null,
   "metadata": {},
   "outputs": [],
   "source": [
    "import re\n",
    "def twodigitmatching(n):\n",
    "    pattern='^[0-9]{5}$'\n",
    "    n=str(n)\n",
    "    if re.match(pattern,n):\n",
    "        return True\n",
    "    return False\n",
    "print(twodigitmatching(12))\n",
    "print(twodigitmatching(123))"
   ]
  },
  {
   "cell_type": "code",
   "execution_count": null,
   "metadata": {},
   "outputs": [],
   "source": []
  },
  {
   "cell_type": "code",
   "execution_count": null,
   "metadata": {},
   "outputs": [],
   "source": []
  },
  {
   "cell_type": "code",
   "execution_count": null,
   "metadata": {},
   "outputs": [],
   "source": []
  },
  {
   "cell_type": "code",
   "execution_count": null,
   "metadata": {},
   "outputs": [],
   "source": []
  }
 ],
 "metadata": {
  "kernelspec": {
   "display_name": "Python 3",
   "language": "python",
   "name": "python3"
  },
  "language_info": {
   "codemirror_mode": {
    "name": "ipython",
    "version": 3
   },
   "file_extension": ".py",
   "mimetype": "text/x-python",
   "name": "python",
   "nbconvert_exporter": "python",
   "pygments_lexer": "ipython3",
   "version": "3.7.3"
  }
 },
 "nbformat": 4,
 "nbformat_minor": 2
}
